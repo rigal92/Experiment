{
 "cells": [
  {
   "cell_type": "code",
   "execution_count": 1,
   "id": "58d9cd37-fa8a-43b7-ae30-2cd662598f4b",
   "metadata": {
    "editable": true,
    "slideshow": {
     "slide_type": "skip"
    },
    "tags": []
   },
   "outputs": [],
   "source": [
    "import pandas as pd\n",
    "import expy\n",
    "import ipywidgets as widgets\n",
    "from expy import Experiment\n",
    "from IPython.display import Markdown as md\n",
    "from ipywidgets import interact, interact_manual, interactive_output, GridspecLayout, Layout, HTML, VBox, HBox\n",
    "import matplotlib.pyplot as plt\n",
    "%matplotlib widget\n",
    "plt.style.use(\"mystyle-jupyter\")\n",
    "\n",
    "pd.set_option('display.max_columns', None)\n",
    "pd.set_option('display.max_rows', None)\n"
   ]
  },
  {
   "cell_type": "markdown",
   "id": "eaf536dc-7bab-4f53-954e-04dd518cbf62",
   "metadata": {
    "editable": true,
    "slideshow": {
     "slide_type": "skip"
    },
    "tags": []
   },
   "source": [
    "### Loading experiment "
   ]
  },
  {
   "cell_type": "code",
   "execution_count": 2,
   "id": "fcfcfa20-a3a9-4464-8a61-be8bdaa8d041",
   "metadata": {
    "editable": true,
    "slideshow": {
     "slide_type": "skip"
    },
    "tags": []
   },
   "outputs": [],
   "source": [
    "file = \"exp_sample.json\""
   ]
  },
  {
   "cell_type": "code",
   "execution_count": 3,
   "id": "16c1d729-065d-4d1b-ae14-15e0717b2ffb",
   "metadata": {
    "editable": true,
    "slideshow": {
     "slide_type": "skip"
    },
    "tags": []
   },
   "outputs": [],
   "source": [
    "ex = expy.read(file)\n",
    "title = ex.name if ex.name else \"Experiment\""
   ]
  },
  {
   "cell_type": "code",
   "execution_count": 4,
   "id": "bd2766b2-730f-4667-acf4-c3840df4769a",
   "metadata": {
    "editable": true,
    "slideshow": {
     "slide_type": "slide"
    },
    "tags": [
     "hide_code"
    ]
   },
   "outputs": [
    {
     "data": {
      "text/markdown": [
       "# Experiment"
      ],
      "text/plain": [
       "<IPython.core.display.Markdown object>"
      ]
     },
     "execution_count": 4,
     "metadata": {},
     "output_type": "execute_result"
    }
   ],
   "source": [
    "md(f\"# {title}\")"
   ]
  },
  {
   "cell_type": "code",
   "execution_count": 5,
   "id": "0672d0ff-415b-4c64-ad7a-a47ec98cffb2",
   "metadata": {
    "editable": true,
    "slideshow": {
     "slide_type": "subslide"
    },
    "tags": []
   },
   "outputs": [
    {
     "data": {
      "text/markdown": [
       "## Laboratory notes\n",
       "Insert here all the relevant laboratory notes."
      ],
      "text/plain": [
       "<IPython.core.display.Markdown object>"
      ]
     },
     "metadata": {},
     "output_type": "display_data"
    }
   ],
   "source": [
    "show = True\n",
    "if show:\n",
    "    display(md(filename=(\"LabNotes.md\")))"
   ]
  },
  {
   "cell_type": "markdown",
   "id": "53f0afc6-db8d-4671-9cc4-ad45b9e2c2bc",
   "metadata": {
    "editable": true,
    "slideshow": {
     "slide_type": "subslide"
    },
    "tags": []
   },
   "source": [
    "## General summary"
   ]
  },
  {
   "cell_type": "code",
   "execution_count": 6,
   "id": "d18a218f-af17-45b1-9393-d9aa8c5205c4",
   "metadata": {
    "editable": true,
    "slideshow": {
     "slide_type": "skip"
    },
    "tags": [
     "hide_code"
    ]
   },
   "outputs": [],
   "source": [
    "show = False\n",
    "if show: \n",
    "    print(ex)"
   ]
  },
  {
   "cell_type": "markdown",
   "id": "e8f2cff2-3040-41ac-b1c5-a3158ee441b4",
   "metadata": {
    "editable": true,
    "slideshow": {
     "slide_type": "subslide"
    },
    "tags": []
   },
   "source": [
    "General attributes belonging to the events"
   ]
  },
  {
   "cell_type": "code",
   "execution_count": 7,
   "id": "582e13cb-5afd-4cb5-8887-b21438831232",
   "metadata": {
    "editable": true,
    "slideshow": {
     "slide_type": "fragment"
    },
    "tags": [
     "hide_code"
    ]
   },
   "outputs": [
    {
     "name": "stdout",
     "output_type": "stream",
     "text": [
      "      T1 T2  Pid          P\n",
      "0  Spot3  G  P17  11.310532\n",
      "1  Spot3  G  P11   6.397365\n",
      "2  Spot3  G  P14   7.915588\n",
      "3  Spot3  G  P16  10.022278\n",
      "4  Spot3  G  P13   7.279942\n",
      "5  Spot3  G  P15   8.981847\n",
      "6  Spot3  G  P12   6.709786\n"
     ]
    }
   ],
   "source": [
    "attributes = ex.get_attributes()\n",
    "print(attributes)"
   ]
  },
  {
   "cell_type": "markdown",
   "id": "1f7793cb-7f59-4035-90bb-ed6a3f276f2b",
   "metadata": {
    "editable": true,
    "slideshow": {
     "slide_type": "subslide"
    },
    "tags": []
   },
   "source": [
    "Here are the fitted parameters of our experiment:"
   ]
  },
  {
   "cell_type": "code",
   "execution_count": 8,
   "id": "7e4474aa-04d9-46e1-abf3-a88ac7e53196",
   "metadata": {
    "editable": true,
    "slideshow": {
     "slide_type": "fragment"
    },
    "tags": [
     "hide_code"
    ]
   },
   "outputs": [
    {
     "data": {
      "text/html": [
       "<div>\n",
       "<style scoped>\n",
       "    .dataframe tbody tr th:only-of-type {\n",
       "        vertical-align: middle;\n",
       "    }\n",
       "\n",
       "    .dataframe tbody tr th {\n",
       "        vertical-align: top;\n",
       "    }\n",
       "\n",
       "    .dataframe thead tr th {\n",
       "        text-align: left;\n",
       "    }\n",
       "</style>\n",
       "<table border=\"1\" class=\"dataframe\">\n",
       "  <thead>\n",
       "    <tr>\n",
       "      <th></th>\n",
       "      <th>name</th>\n",
       "      <th>T1</th>\n",
       "      <th>T2</th>\n",
       "      <th>Pid</th>\n",
       "      <th>P</th>\n",
       "      <th colspan=\"12\" halign=\"left\">VoigtA</th>\n",
       "      <th colspan=\"10\" halign=\"left\">LorentzianA</th>\n",
       "    </tr>\n",
       "    <tr>\n",
       "      <th></th>\n",
       "      <th></th>\n",
       "      <th></th>\n",
       "      <th></th>\n",
       "      <th></th>\n",
       "      <th></th>\n",
       "      <th>Center</th>\n",
       "      <th>Height</th>\n",
       "      <th>Area</th>\n",
       "      <th>FWHM</th>\n",
       "      <th>a0</th>\n",
       "      <th>err_a0</th>\n",
       "      <th>a1</th>\n",
       "      <th>err_a1</th>\n",
       "      <th>a2</th>\n",
       "      <th>err_a2</th>\n",
       "      <th>a3</th>\n",
       "      <th>err_a3</th>\n",
       "      <th>Center</th>\n",
       "      <th>Height</th>\n",
       "      <th>Area</th>\n",
       "      <th>FWHM</th>\n",
       "      <th>a0</th>\n",
       "      <th>err_a0</th>\n",
       "      <th>a1</th>\n",
       "      <th>err_a1</th>\n",
       "      <th>a2</th>\n",
       "      <th>err_a2</th>\n",
       "    </tr>\n",
       "  </thead>\n",
       "  <tbody>\n",
       "    <tr>\n",
       "      <th>0</th>\n",
       "      <td>Spot3_G_P17</td>\n",
       "      <td>Spot3</td>\n",
       "      <td>G</td>\n",
       "      <td>P17</td>\n",
       "      <td>11.310532</td>\n",
       "      <td>1618.74</td>\n",
       "      <td>782.518</td>\n",
       "      <td>65071.4</td>\n",
       "      <td>67.21550</td>\n",
       "      <td>65071.4</td>\n",
       "      <td>450.053</td>\n",
       "      <td>1618.74</td>\n",
       "      <td>0.154970</td>\n",
       "      <td>31.557500</td>\n",
       "      <td>0.658139</td>\n",
       "      <td>0.396877</td>\n",
       "      <td>2.668430e-02</td>\n",
       "      <td>NaN</td>\n",
       "      <td>NaN</td>\n",
       "      <td>NaN</td>\n",
       "      <td>NaN</td>\n",
       "      <td>NaN</td>\n",
       "      <td>NaN</td>\n",
       "      <td>NaN</td>\n",
       "      <td>NaN</td>\n",
       "      <td>NaN</td>\n",
       "      <td>NaN</td>\n",
       "    </tr>\n",
       "    <tr>\n",
       "      <th>1</th>\n",
       "      <td>NaN</td>\n",
       "      <td>NaN</td>\n",
       "      <td>NaN</td>\n",
       "      <td>NaN</td>\n",
       "      <td>NaN</td>\n",
       "      <td>NaN</td>\n",
       "      <td>NaN</td>\n",
       "      <td>NaN</td>\n",
       "      <td>NaN</td>\n",
       "      <td>NaN</td>\n",
       "      <td>NaN</td>\n",
       "      <td>NaN</td>\n",
       "      <td>NaN</td>\n",
       "      <td>NaN</td>\n",
       "      <td>NaN</td>\n",
       "      <td>NaN</td>\n",
       "      <td>NaN</td>\n",
       "      <td>NaN</td>\n",
       "      <td>NaN</td>\n",
       "      <td>NaN</td>\n",
       "      <td>NaN</td>\n",
       "      <td>NaN</td>\n",
       "      <td>NaN</td>\n",
       "      <td>NaN</td>\n",
       "      <td>NaN</td>\n",
       "      <td>NaN</td>\n",
       "      <td>NaN</td>\n",
       "    </tr>\n",
       "    <tr>\n",
       "      <th>2</th>\n",
       "      <td>Spot3_G_P14</td>\n",
       "      <td>Spot3</td>\n",
       "      <td>G</td>\n",
       "      <td>P14</td>\n",
       "      <td>7.915588</td>\n",
       "      <td>1598.38</td>\n",
       "      <td>791.027</td>\n",
       "      <td>67760.6</td>\n",
       "      <td>68.31620</td>\n",
       "      <td>67760.6</td>\n",
       "      <td>415.053</td>\n",
       "      <td>1598.38</td>\n",
       "      <td>0.145700</td>\n",
       "      <td>31.167100</td>\n",
       "      <td>0.618165</td>\n",
       "      <td>0.445219</td>\n",
       "      <td>2.559690e-02</td>\n",
       "      <td>NaN</td>\n",
       "      <td>NaN</td>\n",
       "      <td>NaN</td>\n",
       "      <td>NaN</td>\n",
       "      <td>NaN</td>\n",
       "      <td>NaN</td>\n",
       "      <td>NaN</td>\n",
       "      <td>NaN</td>\n",
       "      <td>NaN</td>\n",
       "      <td>NaN</td>\n",
       "    </tr>\n",
       "    <tr>\n",
       "      <th>3</th>\n",
       "      <td>Spot3_G_P16</td>\n",
       "      <td>Spot3</td>\n",
       "      <td>G</td>\n",
       "      <td>P16</td>\n",
       "      <td>10.022278</td>\n",
       "      <td>1627.09</td>\n",
       "      <td>572.353</td>\n",
       "      <td>46004.5</td>\n",
       "      <td>55.57880</td>\n",
       "      <td>46004.5</td>\n",
       "      <td>349.747</td>\n",
       "      <td>1627.09</td>\n",
       "      <td>0.168242</td>\n",
       "      <td>15.561900</td>\n",
       "      <td>0.989966</td>\n",
       "      <td>1.375720</td>\n",
       "      <td>1.207700e-01</td>\n",
       "      <td>NaN</td>\n",
       "      <td>NaN</td>\n",
       "      <td>NaN</td>\n",
       "      <td>NaN</td>\n",
       "      <td>NaN</td>\n",
       "      <td>NaN</td>\n",
       "      <td>NaN</td>\n",
       "      <td>NaN</td>\n",
       "      <td>NaN</td>\n",
       "      <td>NaN</td>\n",
       "    </tr>\n",
       "    <tr>\n",
       "      <th>4</th>\n",
       "      <td>Spot3_G_P13</td>\n",
       "      <td>Spot3</td>\n",
       "      <td>G</td>\n",
       "      <td>P13</td>\n",
       "      <td>7.279942</td>\n",
       "      <td>NaN</td>\n",
       "      <td>NaN</td>\n",
       "      <td>NaN</td>\n",
       "      <td>NaN</td>\n",
       "      <td>NaN</td>\n",
       "      <td>NaN</td>\n",
       "      <td>NaN</td>\n",
       "      <td>NaN</td>\n",
       "      <td>NaN</td>\n",
       "      <td>NaN</td>\n",
       "      <td>NaN</td>\n",
       "      <td>NaN</td>\n",
       "      <td>1600.32</td>\n",
       "      <td>954.721</td>\n",
       "      <td>74206.2</td>\n",
       "      <td>49.4816</td>\n",
       "      <td>74206.2</td>\n",
       "      <td>385.810</td>\n",
       "      <td>1600.32</td>\n",
       "      <td>0.140186</td>\n",
       "      <td>24.7408</td>\n",
       "      <td>0.188786</td>\n",
       "    </tr>\n",
       "    <tr>\n",
       "      <th>5</th>\n",
       "      <td>Spot3_G_P15</td>\n",
       "      <td>Spot3</td>\n",
       "      <td>G</td>\n",
       "      <td>P15</td>\n",
       "      <td>8.981847</td>\n",
       "      <td>1616.88</td>\n",
       "      <td>-744.985</td>\n",
       "      <td>-64662.6</td>\n",
       "      <td>-3.82372</td>\n",
       "      <td>-64662.6</td>\n",
       "      <td>399.307</td>\n",
       "      <td>1616.88</td>\n",
       "      <td>0.183974</td>\n",
       "      <td>-0.025197</td>\n",
       "      <td>1501.460000</td>\n",
       "      <td>-1096.510000</td>\n",
       "      <td>6.534090e+07</td>\n",
       "      <td>NaN</td>\n",
       "      <td>NaN</td>\n",
       "      <td>NaN</td>\n",
       "      <td>NaN</td>\n",
       "      <td>NaN</td>\n",
       "      <td>NaN</td>\n",
       "      <td>NaN</td>\n",
       "      <td>NaN</td>\n",
       "      <td>NaN</td>\n",
       "      <td>NaN</td>\n",
       "    </tr>\n",
       "    <tr>\n",
       "      <th>6</th>\n",
       "      <td>Spot3_G_P12</td>\n",
       "      <td>Spot3</td>\n",
       "      <td>G</td>\n",
       "      <td>P12</td>\n",
       "      <td>6.709786</td>\n",
       "      <td>NaN</td>\n",
       "      <td>NaN</td>\n",
       "      <td>NaN</td>\n",
       "      <td>NaN</td>\n",
       "      <td>NaN</td>\n",
       "      <td>NaN</td>\n",
       "      <td>NaN</td>\n",
       "      <td>NaN</td>\n",
       "      <td>NaN</td>\n",
       "      <td>NaN</td>\n",
       "      <td>NaN</td>\n",
       "      <td>NaN</td>\n",
       "      <td>1600.30</td>\n",
       "      <td>1148.200</td>\n",
       "      <td>68799.2</td>\n",
       "      <td>38.1457</td>\n",
       "      <td>68799.2</td>\n",
       "      <td>330.489</td>\n",
       "      <td>1600.30</td>\n",
       "      <td>0.101524</td>\n",
       "      <td>19.0729</td>\n",
       "      <td>0.134752</td>\n",
       "    </tr>\n",
       "  </tbody>\n",
       "</table>\n",
       "</div>"
      ],
      "text/plain": [
       "          name     T1   T2  Pid          P   VoigtA                    \\\n",
       "                                             Center   Height     Area   \n",
       "0  Spot3_G_P17  Spot3    G  P17  11.310532  1618.74  782.518  65071.4   \n",
       "1          NaN    NaN  NaN  NaN        NaN      NaN      NaN      NaN   \n",
       "2  Spot3_G_P14  Spot3    G  P14   7.915588  1598.38  791.027  67760.6   \n",
       "3  Spot3_G_P16  Spot3    G  P16  10.022278  1627.09  572.353  46004.5   \n",
       "4  Spot3_G_P13  Spot3    G  P13   7.279942      NaN      NaN      NaN   \n",
       "5  Spot3_G_P15  Spot3    G  P15   8.981847  1616.88 -744.985 -64662.6   \n",
       "6  Spot3_G_P12  Spot3    G  P12   6.709786      NaN      NaN      NaN   \n",
       "\n",
       "                                                                          \\\n",
       "       FWHM       a0   err_a0       a1    err_a1         a2       err_a2   \n",
       "0  67.21550  65071.4  450.053  1618.74  0.154970  31.557500     0.658139   \n",
       "1       NaN      NaN      NaN      NaN       NaN        NaN          NaN   \n",
       "2  68.31620  67760.6  415.053  1598.38  0.145700  31.167100     0.618165   \n",
       "3  55.57880  46004.5  349.747  1627.09  0.168242  15.561900     0.989966   \n",
       "4       NaN      NaN      NaN      NaN       NaN        NaN          NaN   \n",
       "5  -3.82372 -64662.6  399.307  1616.88  0.183974  -0.025197  1501.460000   \n",
       "6       NaN      NaN      NaN      NaN       NaN        NaN          NaN   \n",
       "\n",
       "                             LorentzianA                                       \\\n",
       "            a3        err_a3      Center    Height     Area     FWHM       a0   \n",
       "0     0.396877  2.668430e-02         NaN       NaN      NaN      NaN      NaN   \n",
       "1          NaN           NaN         NaN       NaN      NaN      NaN      NaN   \n",
       "2     0.445219  2.559690e-02         NaN       NaN      NaN      NaN      NaN   \n",
       "3     1.375720  1.207700e-01         NaN       NaN      NaN      NaN      NaN   \n",
       "4          NaN           NaN     1600.32   954.721  74206.2  49.4816  74206.2   \n",
       "5 -1096.510000  6.534090e+07         NaN       NaN      NaN      NaN      NaN   \n",
       "6          NaN           NaN     1600.30  1148.200  68799.2  38.1457  68799.2   \n",
       "\n",
       "                                                  \n",
       "    err_a0       a1    err_a1       a2    err_a2  \n",
       "0      NaN      NaN       NaN      NaN       NaN  \n",
       "1      NaN      NaN       NaN      NaN       NaN  \n",
       "2      NaN      NaN       NaN      NaN       NaN  \n",
       "3      NaN      NaN       NaN      NaN       NaN  \n",
       "4  385.810  1600.32  0.140186  24.7408  0.188786  \n",
       "5      NaN      NaN       NaN      NaN       NaN  \n",
       "6  330.489  1600.30  0.101524  19.0729  0.134752  "
      ]
     },
     "metadata": {},
     "output_type": "display_data"
    }
   ],
   "source": [
    "show = True\n",
    "df = ex.functions_flat\n",
    "if show: \n",
    "    display(df)"
   ]
  },
  {
   "cell_type": "markdown",
   "id": "55e2c75c-38c6-43aa-b4b7-ba70c02b14ed",
   "metadata": {
    "editable": true,
    "slideshow": {
     "slide_type": "subslide"
    },
    "tags": []
   },
   "source": [
    "### Functions "
   ]
  },
  {
   "cell_type": "markdown",
   "id": "832dea1a-d204-46ad-948a-df44732e5bf5",
   "metadata": {
    "editable": true,
    "slideshow": {
     "slide_type": "fragment"
    },
    "tags": []
   },
   "source": [
    "Here is a list of all the functions used in the fitting process:"
   ]
  },
  {
   "cell_type": "code",
   "execution_count": 9,
   "id": "3b5baf72-4f20-41a4-b81a-8c1e93a2630d",
   "metadata": {
    "editable": true,
    "slideshow": {
     "slide_type": "fragment"
    },
    "tags": [
     "hide_code"
    ]
   },
   "outputs": [
    {
     "name": "stdout",
     "output_type": "stream",
     "text": [
      "LorentzianA, VoigtA\n"
     ]
    }
   ],
   "source": [
    "functions = sorted(set(ex.functions.fname)) \n",
    "print(*functions, sep = \", \")"
   ]
  },
  {
   "cell_type": "markdown",
   "id": "18a55a24-62e5-4d5f-bab8-f5288660d43e",
   "metadata": {
    "editable": true,
    "slideshow": {
     "slide_type": "skip"
    },
    "tags": []
   },
   "source": [
    "\n",
    "## Widgets"
   ]
  },
  {
   "cell_type": "markdown",
   "id": "3b135e2c-b553-453a-8152-51672bd17101",
   "metadata": {},
   "source": [
    "### Stack plot"
   ]
  },
  {
   "cell_type": "code",
   "execution_count": 10,
   "id": "c5b6309f-0784-41cb-95b0-ae3e03b30981",
   "metadata": {
    "editable": true,
    "slideshow": {
     "slide_type": "skip"
    },
    "tags": []
   },
   "outputs": [],
   "source": [
    "# functions\n",
    "to_plot = widgets.SelectMultiple(options=[\"y\", \"ftot\"] + functions, layout=Layout(width=\"auto\"))\n",
    "func_validator = widgets.widgets.Checkbox(value=False, description='Select', layout=widgets.Layout(width = \"auto\", justify_content=\"center\"), indent=False,)\n",
    "# bg\n",
    "bg = widgets.SelectMultiple(options=functions, layout=Layout(width=\"auto\"))\n",
    "bg_validator = widgets.widgets.Checkbox(value=True, description='Subtract', indent=False, layout=widgets.Layout(width = \"auto\", justify_content=\"center\"))\n",
    "#labels\n",
    "labels = widgets.Dropdown(value=\"none\", options=[\"none\"]+list(attributes.columns), layout=Layout(width=\"auto\"))\n",
    "labelsx = widgets.FloatSlider(value=1.05, step=.05, min=-1.2, max=1.2, description='x', indent=False, layout=Layout(width=\"auto\"))\n",
    "labelsy = widgets.FloatSlider(value=0, step=.1, min=0, max=5, description='y', indent=False, layout=Layout(width=\"auto\"))\n",
    "# lims\n",
    "xlims = widgets.IntRangeSlider(value=[0, 3000], min=0, max=3000, step=1, description=\"xlim\", layout=Layout(width=\"auto\"))\n",
    "ylims = widgets.Text(value=\"df.y.max()*2\", description=\"ylim\", layout=Layout(width=\"auto\"))\n",
    "factor = widgets.FloatSlider(value=1, step=1, min=0, max=10, description=\"Shift\", layout=Layout(width=\"auto\"))\n",
    "#normalize \n",
    "norm = widgets.Dropdown(value=\"y\", options=[\"none\", \"y\", \"ftot\"]+functions, indent=False, layout=Layout(width=\"auto\"))\n",
    "# sorting\n",
    "sort = widgets.Dropdown(value=\"none\", options=[\"none\"]+list(attributes.columns))\n",
    "reverse = widgets.widgets.Checkbox(value=False, description='Reverse', indent=False,)\n",
    "# labels\n",
    "l1 = widgets.Label(\"Functions to plot\", layout=Layout(justify_content=\"center\"))\n",
    "l2 = widgets.Label(\"Background\", layout=Layout(justify_content=\"center\"))\n",
    "l3 = widgets.Label(\"Labels\", layout=Layout(justify_content=\"center\"))\n",
    "l4 = widgets.Label(\"Positioning\", layout=Layout(justify_content=\"center\"))\n",
    "l5 = widgets.Label(\"Sorting\", layout=Layout(justify_content=\"center\"))\n",
    "l6 = widgets.Label(\"Normalize\", layout=Layout(justify_content=\"center\"))\n",
    "hr = HTML('<hr style=\"border:1px color=#3333ff;\">')"
   ]
  },
  {
   "cell_type": "code",
   "execution_count": 18,
   "id": "80236c57-36a1-473c-aa96-797804819dc2",
   "metadata": {},
   "outputs": [],
   "source": [
    "v0 = VBox([l1, to_plot, func_validator], layout=Layout(width=\"20%\"))\n",
    "v1 = VBox([l2, bg, bg_validator], layout=Layout(width=\"20%\"))\n",
    "v2 = VBox([l3, labels, labelsx,labelsy], layout=Layout(width=\"50%\"))\n",
    "v3 = VBox([l4, xlims, ylims, factor], layout=Layout(width=\"50%\"))\n",
    "v4 = VBox([l5, HBox([sort, reverse])], layout=Layout(width=\"50%\"))\n",
    "v5 = VBox([l6, norm], layout=Layout(width=\"50%\"))\n",
    "\n",
    "h0 = HBox([v2, v3])\n",
    "h1 = HBox([v4, v5])\n",
    "\n",
    "widgets_stack = HBox([v0,v1,VBox([h0, hr, h1], layout=Layout(width=\"60%\"))])"
   ]
  },
  {
   "cell_type": "code",
   "execution_count": 11,
   "id": "b9a41850-7065-4fdc-b3bd-37a052a8bd5b",
   "metadata": {
    "editable": true,
    "slideshow": {
     "slide_type": "skip"
    },
    "tags": []
   },
   "outputs": [],
   "source": [
    "def plot_stack(**args):\n",
    "    funcs = list(args.pop(\"to_plot\"))\n",
    "    if args.pop(\"func_validator\"):\n",
    "        to_plot.layout.visibility = \"visible\"\n",
    "        if(\"y\" in funcs): \n",
    "            yp = y_plot\n",
    "            funcs.remove(\"y\")\n",
    "        else:\n",
    "            yp = None\n",
    "        if(\"ftot\" in funcs): \n",
    "            ftotp = ftot_plot\n",
    "            funcs.remove(\"ftot\")\n",
    "        else:\n",
    "            ftotp = None\n",
    "        op = {f:other_plot[\"_rem\"] for f in funcs}\n",
    "    else:\n",
    "        to_plot.layout.visibility = \"hidden\"\n",
    "        yp = y_plot\n",
    "        ftotp = ftot_plot\n",
    "        op = other_plot\n",
    "\n",
    "    bg_pattern = \"|\".join(args.pop(\"bg_fun\"))\n",
    "    if args.pop(\"bg_validator\"):\n",
    "        bg.layout.visibility = \"visible\"\n",
    "    else:\n",
    "        bg.layout.visibility = \"hidden\"\n",
    "        bg_pattern = None\n",
    "    \n",
    "    if((norm:=args.pop(\"norm\")) == \"none\"):\n",
    "        norm = None\n",
    "    else:\n",
    "        norm = {\"ref\":norm, \"exclude\":\"x\"}\n",
    "\n",
    "    if((sort:=args.pop(\"sort\")) == \"none\"):\n",
    "        fsort = None\n",
    "    else:\n",
    "        fsort = lambda x:x[1].attributes[sort]\n",
    "\n",
    "    if((labs:=args.pop(\"labels\")) != \"none\"):\n",
    "        labelsx.layout.visibility = \"visible\"\n",
    "        labelsy.layout.visibility = \"visible\"\n",
    "    else:\n",
    "        labs = None\n",
    "        labelsx.layout.visibility = \"hidden\"\n",
    "        labelsy.layout.visibility = \"hidden\"\n",
    "        \n",
    "\n",
    "    \n",
    "    ax.cla()\n",
    "    expy.plot_stack(\n",
    "        ex, \n",
    "        ax = ax, \n",
    "        y_plot=yp,\n",
    "        ftot_plot=ftotp,\n",
    "        other_plot=op,\n",
    "        bg_pattern=bg_pattern, \n",
    "        to_background = None, \n",
    "        normalized=norm,\n",
    "        sort=fsort,\n",
    "        labels=labs,\n",
    "        labels_format=plabels_format,\n",
    "        xlabels=args.pop(\"labelsx\"),\n",
    "        ylabels_shift=args.pop(\"labelsy\"),\n",
    "        **args\n",
    "    )\n",
    "    ax.set(xlabel = xlabel, ylabel = ylabel)\n",
    "    fig.tight_layout()\n",
    "    \n"
   ]
  },
  {
   "cell_type": "markdown",
   "id": "e4bd36dc-abbc-4b90-bf97-8bd58ccf13df",
   "metadata": {
    "editable": true,
    "slideshow": {
     "slide_type": "slide"
    },
    "tags": []
   },
   "source": [
    "## Plots"
   ]
  },
  {
   "cell_type": "code",
   "execution_count": 12,
   "id": "8d8dd6a3-cefe-43f3-bb9c-f742fcd7f99f",
   "metadata": {
    "editable": true,
    "slideshow": {
     "slide_type": "skip"
    },
    "tags": []
   },
   "outputs": [],
   "source": [
    "# set up labels\n",
    "xlabel = \"x\"\n",
    "ylabel = \"I (a.u.)\"\n",
    "\n",
    "# chose line colors\n",
    "y_plot = {\"pos\":[\".k\"], \"ms\":2}\n",
    "ftot_plot = {\"pos\":[\"-r\"]}\n",
    "other_plot = {\"_rem\":{\"pos\":[\"-\"],\"c\":[0,.3957,.6043], \"alpha\":.3}}\n",
    "\n",
    "# plot labels\n",
    "plabels_format = \".2f\"\n"
   ]
  },
  {
   "cell_type": "markdown",
   "id": "c5e366dc-a54f-44ba-bed2-01ee5dc92240",
   "metadata": {
    "editable": true,
    "slideshow": {
     "slide_type": "subslide"
    },
    "tags": []
   },
   "source": [
    "### Stack plot"
   ]
  },
  {
   "cell_type": "code",
   "execution_count": 23,
   "id": "4d1cbacb-7eaa-44ee-87c1-0dac7974376c",
   "metadata": {
    "editable": true,
    "slideshow": {
     "slide_type": "fragment"
    },
    "tags": []
   },
   "outputs": [
    {
     "data": {
      "application/vnd.jupyter.widget-view+json": {
       "model_id": "4f9beff2032d474ab09088f8fb7609ff",
       "version_major": 2,
       "version_minor": 0
      },
      "text/plain": [
       "HBox(children=(VBox(children=(Label(value='Functions to plot', layout=Layout(justify_content='center')), Selec…"
      ]
     },
     "metadata": {},
     "output_type": "display_data"
    },
    {
     "data": {
      "application/vnd.jupyter.widget-view+json": {
       "model_id": "69b95d6fe18b40d0bf2160b53e940ca9",
       "version_major": 2,
       "version_minor": 0
      },
      "image/png": "[encoded data removed]",
      "text/html": [
       "\n",
       "            <div style=\"display: inline-block;\">\n",
       "                <div class=\"jupyter-widgets widget-label\" style=\"text-align: center;\">\n",
       "                    Figure\n",
       "                </div>\n",
       "                <img src='data:image/png;base64,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' width=700.0/>\n",
       "            </div>\n",
       "        "
      ],
      "text/plain": [
       "Canvas(toolbar=Toolbar(toolitems=[('Home', 'Reset original view', 'home', 'home'), ('Back', 'Back to previous …"
      ]
     },
     "metadata": {},
     "output_type": "display_data"
    }
   ],
   "source": [
    "# Initialize plot\n",
    "fig, ax = plt.subplots()\n",
    "expy.plot_stack(ex, ax = ax)\n",
    "ax.set(xlabel = xlabel, ylabel = ylabel)\n",
    "ax.get_yaxis().set_ticks([])\n",
    "fig.tight_layout()\n",
    "\n",
    "interactive_output(plot_stack, {\n",
    "    \"to_plot\":to_plot,\n",
    "    \"func_validator\":func_validator,\n",
    "    \"norm\":norm,\n",
    "    \"sort\":sort,\n",
    "    \"reverse\":reverse,\n",
    "    \"labels\":labels,\n",
    "    \"labelsx\":labelsx,\n",
    "    \"labelsy\":labelsy,\n",
    "    \"bg_fun\":bg,\n",
    "    \"bg_validator\":bg_validator,\n",
    "    \"xlim\":xlims, \n",
    "    \"ylim\" : ylims,\n",
    "    \"factor\":factor,\n",
    "    }\n",
    ")\n",
    "\n",
    "\n",
    "display(widgets_stack)\n"
   ]
  },
  {
   "cell_type": "markdown",
   "id": "ecbaed8d-1d5e-4504-b70a-a83f5a38c50c",
   "metadata": {},
   "source": [
    "### Slider plot"
   ]
  },
  {
   "cell_type": "code",
   "execution_count": 14,
   "id": "18410f83-f350-4fa5-ab35-7149725f4e34",
   "metadata": {},
   "outputs": [],
   "source": [
    "# plt.close(\"all\")"
   ]
  }
 ],
 "metadata": {
  "kernelspec": {
   "display_name": "Python 3 (ipykernel)",
   "language": "python",
   "name": "python3"
  },
  "language_info": {
   "codemirror_mode": {
    "name": "ipython",
    "version": 3
   },
   "file_extension": ".py",
   "mimetype": "text/x-python",
   "name": "python",
   "nbconvert_exporter": "python",
   "pygments_lexer": "ipython3",
   "version": "3.12.3"
  },
  "toc": {
   "base_numbering": 1
  }
 },
 "nbformat": 4,
 "nbformat_minor": 5
}
