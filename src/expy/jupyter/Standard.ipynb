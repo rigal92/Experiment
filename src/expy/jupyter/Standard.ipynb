{
 "cells": [
  {
   "cell_type": "code",
   "execution_count": 1,
   "id": "58d9cd37-fa8a-43b7-ae30-2cd662598f4b",
   "metadata": {
    "editable": true,
    "slideshow": {
     "slide_type": "skip"
    },
    "tags": []
   },
   "outputs": [],
   "source": [
    "import pandas as pd\n",
    "import expy\n",
    "import ipywidgets as widgets\n",
    "from expy import Experiment\n",
    "from IPython.display import Markdown as md\n",
    "from ipywidgets import interact, interact_manual\n",
    "import matplotlib.pyplot as plt\n",
    "%matplotlib ipympl\n",
    "plt.style.use(\"mystyle-jupyter\")\n",
    "\n",
    "pd.set_option('display.max_columns', None)\n",
    "pd.set_option('display.max_rows', None)\n"
   ]
  },
  {
   "cell_type": "markdown",
   "id": "eaf536dc-7bab-4f53-954e-04dd518cbf62",
   "metadata": {
    "editable": true,
    "slideshow": {
     "slide_type": "skip"
    },
    "tags": []
   },
   "source": [
    "### Loading experiment "
   ]
  },
  {
   "cell_type": "code",
   "execution_count": 2,
   "id": "fcfcfa20-a3a9-4464-8a61-be8bdaa8d041",
   "metadata": {
    "editable": true,
    "slideshow": {
     "slide_type": "skip"
    },
    "tags": []
   },
   "outputs": [],
   "source": [
    "file = \"exp_sample.json\""
   ]
  },
  {
   "cell_type": "code",
   "execution_count": 3,
   "id": "16c1d729-065d-4d1b-ae14-15e0717b2ffb",
   "metadata": {
    "editable": true,
    "slideshow": {
     "slide_type": "skip"
    },
    "tags": []
   },
   "outputs": [
    {
     "name": "stdout",
     "output_type": "stream",
     "text": [
      "WARNING! Spot3_G_P11 does not contain any functions. Ignored when creating the function table\n",
      "WARNING! Spot3_G_P11 does not contain any functions. Ignored when creating the function table\n"
     ]
    }
   ],
   "source": [
    "ex = expy.read(file)\n",
    "title = ex.name if ex.name else \"Experiment\""
   ]
  },
  {
   "cell_type": "code",
   "execution_count": 4,
   "id": "bd2766b2-730f-4667-acf4-c3840df4769a",
   "metadata": {
    "editable": true,
    "slideshow": {
     "slide_type": "slide"
    },
    "tags": [
     "hide_code"
    ]
   },
   "outputs": [
    {
     "data": {
      "text/markdown": [
       "# Experiment"
      ],
      "text/plain": [
       "<IPython.core.display.Markdown object>"
      ]
     },
     "execution_count": 4,
     "metadata": {},
     "output_type": "execute_result"
    }
   ],
   "source": [
    "md(f\"# {title}\")"
   ]
  },
  {
   "cell_type": "code",
   "execution_count": 5,
   "id": "0672d0ff-415b-4c64-ad7a-a47ec98cffb2",
   "metadata": {
    "editable": true,
    "slideshow": {
     "slide_type": ""
    },
    "tags": []
   },
   "outputs": [
    {
     "data": {
      "text/markdown": [
       "## Laboratory notes\n",
       "Insert here all the relevant laboratory notes."
      ],
      "text/plain": [
       "<IPython.core.display.Markdown object>"
      ]
     },
     "metadata": {},
     "output_type": "display_data"
    }
   ],
   "source": [
    "show = True\n",
    "if show:\n",
    "    display(md(filename=(\"LabNotes.md\")))"
   ]
  },
  {
   "cell_type": "markdown",
   "id": "53f0afc6-db8d-4671-9cc4-ad45b9e2c2bc",
   "metadata": {
    "editable": true,
    "slideshow": {
     "slide_type": "fragment"
    },
    "tags": []
   },
   "source": [
    "## General summary"
   ]
  },
  {
   "cell_type": "markdown",
   "id": "e8f2cff2-3040-41ac-b1c5-a3158ee441b4",
   "metadata": {},
   "source": [
    "General attributes belonging to the events"
   ]
  },
  {
   "cell_type": "code",
   "execution_count": 6,
   "id": "582e13cb-5afd-4cb5-8887-b21438831232",
   "metadata": {
    "editable": true,
    "slideshow": {
     "slide_type": "fragment"
    },
    "tags": [
     "hide_code"
    ]
   },
   "outputs": [
    {
     "name": "stdout",
     "output_type": "stream",
     "text": [
      "      T1 T2  Pid          P\n",
      "0  Spot3  G  P17  11.310532\n",
      "1  Spot3  G  P11   6.397365\n",
      "2  Spot3  G  P14   7.915588\n",
      "3  Spot3  G  P16  10.022278\n",
      "4  Spot3  G  P13   7.279942\n",
      "5  Spot3  G  P15   8.981847\n",
      "6  Spot3  G  P12   6.709786\n"
     ]
    }
   ],
   "source": [
    "attributes = ex.get_attributes()\n",
    "print(attributes)"
   ]
  },
  {
   "cell_type": "markdown",
   "id": "1f7793cb-7f59-4035-90bb-ed6a3f276f2b",
   "metadata": {},
   "source": [
    "Here are the fitted parameters of our experiment:"
   ]
  },
  {
   "cell_type": "code",
   "execution_count": 7,
   "id": "d18a218f-af17-45b1-9393-d9aa8c5205c4",
   "metadata": {
    "editable": true,
    "slideshow": {
     "slide_type": "fragment"
    },
    "tags": [
     "hide_code"
    ]
   },
   "outputs": [],
   "source": [
    "show = False\n",
    "if show: \n",
    "    print(ex)"
   ]
  },
  {
   "cell_type": "code",
   "execution_count": 8,
   "id": "7e4474aa-04d9-46e1-abf3-a88ac7e53196",
   "metadata": {
    "editable": true,
    "slideshow": {
     "slide_type": "fragment"
    },
    "tags": [
     "hide_code"
    ]
   },
   "outputs": [
    {
     "data": {
      "text/html": [
       "<div>\n",
       "<style scoped>\n",
       "    .dataframe tbody tr th:only-of-type {\n",
       "        vertical-align: middle;\n",
       "    }\n",
       "\n",
       "    .dataframe tbody tr th {\n",
       "        vertical-align: top;\n",
       "    }\n",
       "\n",
       "    .dataframe thead tr th {\n",
       "        text-align: left;\n",
       "    }\n",
       "</style>\n",
       "<table border=\"1\" class=\"dataframe\">\n",
       "  <thead>\n",
       "    <tr>\n",
       "      <th></th>\n",
       "      <th>name</th>\n",
       "      <th>T1</th>\n",
       "      <th>T2</th>\n",
       "      <th>Pid</th>\n",
       "      <th>P</th>\n",
       "      <th colspan=\"12\" halign=\"left\">VoigtA</th>\n",
       "      <th colspan=\"10\" halign=\"left\">LorentzianA</th>\n",
       "    </tr>\n",
       "    <tr>\n",
       "      <th></th>\n",
       "      <th></th>\n",
       "      <th></th>\n",
       "      <th></th>\n",
       "      <th></th>\n",
       "      <th></th>\n",
       "      <th>Center</th>\n",
       "      <th>Height</th>\n",
       "      <th>Area</th>\n",
       "      <th>FWHM</th>\n",
       "      <th>a0</th>\n",
       "      <th>err_a0</th>\n",
       "      <th>a1</th>\n",
       "      <th>err_a1</th>\n",
       "      <th>a2</th>\n",
       "      <th>err_a2</th>\n",
       "      <th>a3</th>\n",
       "      <th>err_a3</th>\n",
       "      <th>Center</th>\n",
       "      <th>Height</th>\n",
       "      <th>Area</th>\n",
       "      <th>FWHM</th>\n",
       "      <th>a0</th>\n",
       "      <th>err_a0</th>\n",
       "      <th>a1</th>\n",
       "      <th>err_a1</th>\n",
       "      <th>a2</th>\n",
       "      <th>err_a2</th>\n",
       "    </tr>\n",
       "  </thead>\n",
       "  <tbody>\n",
       "    <tr>\n",
       "      <th>0</th>\n",
       "      <td>Spot3_G_P17</td>\n",
       "      <td>Spot3</td>\n",
       "      <td>G</td>\n",
       "      <td>P17</td>\n",
       "      <td>11.310532</td>\n",
       "      <td>1618.74</td>\n",
       "      <td>782.518</td>\n",
       "      <td>65071.4</td>\n",
       "      <td>67.21550</td>\n",
       "      <td>65071.4</td>\n",
       "      <td>450.053</td>\n",
       "      <td>1618.74</td>\n",
       "      <td>0.154970</td>\n",
       "      <td>31.557500</td>\n",
       "      <td>0.658139</td>\n",
       "      <td>0.396877</td>\n",
       "      <td>2.668430e-02</td>\n",
       "      <td>NaN</td>\n",
       "      <td>NaN</td>\n",
       "      <td>NaN</td>\n",
       "      <td>NaN</td>\n",
       "      <td>NaN</td>\n",
       "      <td>NaN</td>\n",
       "      <td>NaN</td>\n",
       "      <td>NaN</td>\n",
       "      <td>NaN</td>\n",
       "      <td>NaN</td>\n",
       "    </tr>\n",
       "    <tr>\n",
       "      <th>1</th>\n",
       "      <td>NaN</td>\n",
       "      <td>NaN</td>\n",
       "      <td>NaN</td>\n",
       "      <td>NaN</td>\n",
       "      <td>NaN</td>\n",
       "      <td>NaN</td>\n",
       "      <td>NaN</td>\n",
       "      <td>NaN</td>\n",
       "      <td>NaN</td>\n",
       "      <td>NaN</td>\n",
       "      <td>NaN</td>\n",
       "      <td>NaN</td>\n",
       "      <td>NaN</td>\n",
       "      <td>NaN</td>\n",
       "      <td>NaN</td>\n",
       "      <td>NaN</td>\n",
       "      <td>NaN</td>\n",
       "      <td>NaN</td>\n",
       "      <td>NaN</td>\n",
       "      <td>NaN</td>\n",
       "      <td>NaN</td>\n",
       "      <td>NaN</td>\n",
       "      <td>NaN</td>\n",
       "      <td>NaN</td>\n",
       "      <td>NaN</td>\n",
       "      <td>NaN</td>\n",
       "      <td>NaN</td>\n",
       "    </tr>\n",
       "    <tr>\n",
       "      <th>2</th>\n",
       "      <td>Spot3_G_P14</td>\n",
       "      <td>Spot3</td>\n",
       "      <td>G</td>\n",
       "      <td>P14</td>\n",
       "      <td>7.915588</td>\n",
       "      <td>1598.38</td>\n",
       "      <td>791.027</td>\n",
       "      <td>67760.6</td>\n",
       "      <td>68.31620</td>\n",
       "      <td>67760.6</td>\n",
       "      <td>415.053</td>\n",
       "      <td>1598.38</td>\n",
       "      <td>0.145700</td>\n",
       "      <td>31.167100</td>\n",
       "      <td>0.618165</td>\n",
       "      <td>0.445219</td>\n",
       "      <td>2.559690e-02</td>\n",
       "      <td>NaN</td>\n",
       "      <td>NaN</td>\n",
       "      <td>NaN</td>\n",
       "      <td>NaN</td>\n",
       "      <td>NaN</td>\n",
       "      <td>NaN</td>\n",
       "      <td>NaN</td>\n",
       "      <td>NaN</td>\n",
       "      <td>NaN</td>\n",
       "      <td>NaN</td>\n",
       "    </tr>\n",
       "    <tr>\n",
       "      <th>3</th>\n",
       "      <td>Spot3_G_P16</td>\n",
       "      <td>Spot3</td>\n",
       "      <td>G</td>\n",
       "      <td>P16</td>\n",
       "      <td>10.022278</td>\n",
       "      <td>1627.09</td>\n",
       "      <td>572.353</td>\n",
       "      <td>46004.5</td>\n",
       "      <td>55.57880</td>\n",
       "      <td>46004.5</td>\n",
       "      <td>349.747</td>\n",
       "      <td>1627.09</td>\n",
       "      <td>0.168242</td>\n",
       "      <td>15.561900</td>\n",
       "      <td>0.989966</td>\n",
       "      <td>1.375720</td>\n",
       "      <td>1.207700e-01</td>\n",
       "      <td>NaN</td>\n",
       "      <td>NaN</td>\n",
       "      <td>NaN</td>\n",
       "      <td>NaN</td>\n",
       "      <td>NaN</td>\n",
       "      <td>NaN</td>\n",
       "      <td>NaN</td>\n",
       "      <td>NaN</td>\n",
       "      <td>NaN</td>\n",
       "      <td>NaN</td>\n",
       "    </tr>\n",
       "    <tr>\n",
       "      <th>4</th>\n",
       "      <td>Spot3_G_P13</td>\n",
       "      <td>Spot3</td>\n",
       "      <td>G</td>\n",
       "      <td>P13</td>\n",
       "      <td>7.279942</td>\n",
       "      <td>NaN</td>\n",
       "      <td>NaN</td>\n",
       "      <td>NaN</td>\n",
       "      <td>NaN</td>\n",
       "      <td>NaN</td>\n",
       "      <td>NaN</td>\n",
       "      <td>NaN</td>\n",
       "      <td>NaN</td>\n",
       "      <td>NaN</td>\n",
       "      <td>NaN</td>\n",
       "      <td>NaN</td>\n",
       "      <td>NaN</td>\n",
       "      <td>1600.32</td>\n",
       "      <td>954.721</td>\n",
       "      <td>74206.2</td>\n",
       "      <td>49.4816</td>\n",
       "      <td>74206.2</td>\n",
       "      <td>385.810</td>\n",
       "      <td>1600.32</td>\n",
       "      <td>0.140186</td>\n",
       "      <td>24.7408</td>\n",
       "      <td>0.188786</td>\n",
       "    </tr>\n",
       "    <tr>\n",
       "      <th>5</th>\n",
       "      <td>Spot3_G_P15</td>\n",
       "      <td>Spot3</td>\n",
       "      <td>G</td>\n",
       "      <td>P15</td>\n",
       "      <td>8.981847</td>\n",
       "      <td>1616.88</td>\n",
       "      <td>-744.985</td>\n",
       "      <td>-64662.6</td>\n",
       "      <td>-3.82372</td>\n",
       "      <td>-64662.6</td>\n",
       "      <td>399.307</td>\n",
       "      <td>1616.88</td>\n",
       "      <td>0.183974</td>\n",
       "      <td>-0.025197</td>\n",
       "      <td>1501.460000</td>\n",
       "      <td>-1096.510000</td>\n",
       "      <td>6.534090e+07</td>\n",
       "      <td>NaN</td>\n",
       "      <td>NaN</td>\n",
       "      <td>NaN</td>\n",
       "      <td>NaN</td>\n",
       "      <td>NaN</td>\n",
       "      <td>NaN</td>\n",
       "      <td>NaN</td>\n",
       "      <td>NaN</td>\n",
       "      <td>NaN</td>\n",
       "      <td>NaN</td>\n",
       "    </tr>\n",
       "    <tr>\n",
       "      <th>6</th>\n",
       "      <td>Spot3_G_P12</td>\n",
       "      <td>Spot3</td>\n",
       "      <td>G</td>\n",
       "      <td>P12</td>\n",
       "      <td>6.709786</td>\n",
       "      <td>NaN</td>\n",
       "      <td>NaN</td>\n",
       "      <td>NaN</td>\n",
       "      <td>NaN</td>\n",
       "      <td>NaN</td>\n",
       "      <td>NaN</td>\n",
       "      <td>NaN</td>\n",
       "      <td>NaN</td>\n",
       "      <td>NaN</td>\n",
       "      <td>NaN</td>\n",
       "      <td>NaN</td>\n",
       "      <td>NaN</td>\n",
       "      <td>1600.30</td>\n",
       "      <td>1148.200</td>\n",
       "      <td>68799.2</td>\n",
       "      <td>38.1457</td>\n",
       "      <td>68799.2</td>\n",
       "      <td>330.489</td>\n",
       "      <td>1600.30</td>\n",
       "      <td>0.101524</td>\n",
       "      <td>19.0729</td>\n",
       "      <td>0.134752</td>\n",
       "    </tr>\n",
       "  </tbody>\n",
       "</table>\n",
       "</div>"
      ],
      "text/plain": [
       "          name     T1   T2  Pid          P   VoigtA                    \\\n",
       "                                             Center   Height     Area   \n",
       "0  Spot3_G_P17  Spot3    G  P17  11.310532  1618.74  782.518  65071.4   \n",
       "1          NaN    NaN  NaN  NaN        NaN      NaN      NaN      NaN   \n",
       "2  Spot3_G_P14  Spot3    G  P14   7.915588  1598.38  791.027  67760.6   \n",
       "3  Spot3_G_P16  Spot3    G  P16  10.022278  1627.09  572.353  46004.5   \n",
       "4  Spot3_G_P13  Spot3    G  P13   7.279942      NaN      NaN      NaN   \n",
       "5  Spot3_G_P15  Spot3    G  P15   8.981847  1616.88 -744.985 -64662.6   \n",
       "6  Spot3_G_P12  Spot3    G  P12   6.709786      NaN      NaN      NaN   \n",
       "\n",
       "                                                                          \\\n",
       "       FWHM       a0   err_a0       a1    err_a1         a2       err_a2   \n",
       "0  67.21550  65071.4  450.053  1618.74  0.154970  31.557500     0.658139   \n",
       "1       NaN      NaN      NaN      NaN       NaN        NaN          NaN   \n",
       "2  68.31620  67760.6  415.053  1598.38  0.145700  31.167100     0.618165   \n",
       "3  55.57880  46004.5  349.747  1627.09  0.168242  15.561900     0.989966   \n",
       "4       NaN      NaN      NaN      NaN       NaN        NaN          NaN   \n",
       "5  -3.82372 -64662.6  399.307  1616.88  0.183974  -0.025197  1501.460000   \n",
       "6       NaN      NaN      NaN      NaN       NaN        NaN          NaN   \n",
       "\n",
       "                             LorentzianA                                       \\\n",
       "            a3        err_a3      Center    Height     Area     FWHM       a0   \n",
       "0     0.396877  2.668430e-02         NaN       NaN      NaN      NaN      NaN   \n",
       "1          NaN           NaN         NaN       NaN      NaN      NaN      NaN   \n",
       "2     0.445219  2.559690e-02         NaN       NaN      NaN      NaN      NaN   \n",
       "3     1.375720  1.207700e-01         NaN       NaN      NaN      NaN      NaN   \n",
       "4          NaN           NaN     1600.32   954.721  74206.2  49.4816  74206.2   \n",
       "5 -1096.510000  6.534090e+07         NaN       NaN      NaN      NaN      NaN   \n",
       "6          NaN           NaN     1600.30  1148.200  68799.2  38.1457  68799.2   \n",
       "\n",
       "                                                  \n",
       "    err_a0       a1    err_a1       a2    err_a2  \n",
       "0      NaN      NaN       NaN      NaN       NaN  \n",
       "1      NaN      NaN       NaN      NaN       NaN  \n",
       "2      NaN      NaN       NaN      NaN       NaN  \n",
       "3      NaN      NaN       NaN      NaN       NaN  \n",
       "4  385.810  1600.32  0.140186  24.7408  0.188786  \n",
       "5      NaN      NaN       NaN      NaN       NaN  \n",
       "6  330.489  1600.30  0.101524  19.0729  0.134752  "
      ]
     },
     "metadata": {},
     "output_type": "display_data"
    }
   ],
   "source": [
    "show = True\n",
    "df = ex.functions_flat\n",
    "if show: \n",
    "    display(df)"
   ]
  },
  {
   "cell_type": "markdown",
   "id": "55e2c75c-38c6-43aa-b4b7-ba70c02b14ed",
   "metadata": {
    "editable": true,
    "slideshow": {
     "slide_type": "subslide"
    },
    "tags": []
   },
   "source": [
    "### Functions "
   ]
  },
  {
   "cell_type": "markdown",
   "id": "832dea1a-d204-46ad-948a-df44732e5bf5",
   "metadata": {},
   "source": [
    "Here is a list of all the functions used in the fitting process:"
   ]
  },
  {
   "cell_type": "code",
   "execution_count": 9,
   "id": "3b5baf72-4f20-41a4-b81a-8c1e93a2630d",
   "metadata": {
    "editable": true,
    "slideshow": {
     "slide_type": "subslide"
    },
    "tags": [
     "hide_code"
    ]
   },
   "outputs": [
    {
     "name": "stdout",
     "output_type": "stream",
     "text": [
      "LorentzianA, VoigtA\n"
     ]
    }
   ],
   "source": [
    "functions = sorted(set(ex.functions.fname)) \n",
    "print(*functions, sep = \", \")"
   ]
  },
  {
   "cell_type": "markdown",
   "id": "e4bd36dc-abbc-4b90-bf97-8bd58ccf13df",
   "metadata": {
    "editable": true,
    "slideshow": {
     "slide_type": ""
    },
    "tags": []
   },
   "source": [
    "## Plots"
   ]
  },
  {
   "cell_type": "code",
   "execution_count": 10,
   "id": "324c22d5-a201-4b62-bad2-39861e700980",
   "metadata": {},
   "outputs": [
    {
     "data": {
      "application/vnd.jupyter.widget-view+json": {
       "model_id": "b8ee0ace7e194d08bd1df115c409f415",
       "version_major": 2,
       "version_minor": 0
      },
      "image/png": "[encoded data removed]",
      "text/html": [
       "\n",
       "            <div style=\"display: inline-block;\">\n",
       "                <div class=\"jupyter-widgets widget-label\" style=\"text-align: center;\">\n",
       "                    Figure\n",
       "                </div>\n",
       "                <img src='data:image/png;base64,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' width=800.0/>\n",
       "            </div>\n",
       "        "
      ],
      "text/plain": [
       "Canvas(toolbar=Toolbar(toolitems=[('Home', 'Reset original view', 'home', 'home'), ('Back', 'Back to previous …"
      ]
     },
     "metadata": {},
     "output_type": "display_data"
    }
   ],
   "source": [
    "# Initialize plot\n",
    "fig, ax = plt.subplots()"
   ]
  },
  {
   "cell_type": "code",
   "execution_count": 11,
   "id": "8d8dd6a3-cefe-43f3-bb9c-f742fcd7f99f",
   "metadata": {},
   "outputs": [],
   "source": [
    "# set up labels\n",
    "xlabel = \"x\"\n",
    "ylabel = \"I (a.u.)\"\n",
    "\n",
    "# chose line colors\n",
    "y_plot = {\"pos\":[\".k\"], \"ms\":2}\n",
    "ftot_plot = {\"pos\":[\"-r\"]}\n",
    "other_plot = {\"_rem\":{\"pos\":[\"-\"],\"c\":[0,.3957,.6043], \"alpha\":.3}}\n",
    "\n",
    "# plot labels\n",
    "plabels_format = \".2f\"\n"
   ]
  },
  {
   "cell_type": "code",
   "execution_count": 12,
   "id": "6239e576-0f28-45be-a759-e2c64479869b",
   "metadata": {},
   "outputs": [
    {
     "data": {
      "application/vnd.jupyter.widget-view+json": {
       "model_id": "a25ec9c5c507464bab8964535d51f3de",
       "version_major": 2,
       "version_minor": 0
      },
      "text/plain": [
       "interactive(children=(SelectMultiple(description='What to plot', options=('y', 'ftot', 'LorentzianA', 'VoigtA'…"
      ]
     },
     "metadata": {},
     "output_type": "display_data"
    }
   ],
   "source": [
    "xlims = widgets.IntRangeSlider(value=[0, 3000], min=0, max=3000,step=1)\n",
    "factor = widgets.FloatSlider(value=1, step=1, min=0, max=10)\n",
    "to_plot = widgets.SelectMultiple(options=[\"y\", \"ftot\"] + functions, description='What to plot')\n",
    "func_validator = widgets.widgets.Checkbox(value=False, description='Select functions?')\n",
    "bg = widgets.SelectMultiple(options=functions, description='Bg functions')\n",
    "bg_validator = widgets.widgets.Checkbox(value=True, description='Substract bg?')\n",
    "norm = widgets.Dropdown(value=\"y\", options=[\"none\", \"y\", \"ftot\"]+functions, description='Normalization')\n",
    "sort = widgets.Dropdown(value=\"none\", options=[\"none\"]+list(attributes.columns), description='Sort by')\n",
    "reverse = widgets.widgets.Checkbox(value=False, description='Reverse')\n",
    "labels = widgets.Dropdown(value=\"none\", options=[\"none\"]+list(attributes.columns), description='Labels')\n",
    "labelsx = widgets.FloatSlider(value=1.05, step=.05, min=-1.2, max=1.2, description='Labels x')\n",
    "labelsy = widgets.FloatSlider(value=0, step=.1, min=0, max=5, description='Labels y')\n",
    "\n",
    "\n",
    "# initialize plot\n",
    "expy.plot_stack(ex, ax = ax)\n",
    "ax.set(xlabel = xlabel, ylabel = ylabel, yticks=[])\n",
    "fig.tight_layout()\n",
    "\n",
    "@interact_manual(\n",
    "    to_plot=to_plot,\n",
    "    func_validator=func_validator,\n",
    "    norm=norm,\n",
    "    sort=sort,\n",
    "    reverse=reverse,\n",
    "    labels=labels,\n",
    "    labelsx=labelsx,\n",
    "    labelsy=labelsy,\n",
    "    bg_fun=bg,\n",
    "    bg_validator=bg_validator,\n",
    "    xlim=xlims, \n",
    "    ylim = \"df.y.max()*2\",\n",
    "    factor = factor, \n",
    ")\n",
    "def plot_stack(**args):\n",
    "    funcs = list(args.pop(\"to_plot\"))\n",
    "    if args.pop(\"func_validator\"):\n",
    "        to_plot.layout.visibility = \"visible\"\n",
    "        if(\"y\" in funcs): \n",
    "            yp = y_plot\n",
    "            funcs.remove(\"y\")\n",
    "        else:\n",
    "            yp = None\n",
    "        if(\"ftot\" in funcs): \n",
    "            ftotp = ftot_plot\n",
    "            funcs.remove(\"ftot\")\n",
    "        else:\n",
    "            ftotp = None\n",
    "        op = {f:other_plot[\"_rem\"] for f in funcs}\n",
    "    else:\n",
    "        to_plot.layout.visibility = \"hidden\"\n",
    "        yp = y_plot\n",
    "        ftotp = ftot_plot\n",
    "        op = other_plot\n",
    "\n",
    "    bg_pattern = \"|\".join(args.pop(\"bg_fun\"))\n",
    "    if args.pop(\"bg_validator\"):\n",
    "        bg.layout.visibility = \"visible\"\n",
    "    else:\n",
    "        bg.layout.visibility = \"hidden\"\n",
    "        bg_pattern = None\n",
    "    \n",
    "    if((norm:=args.pop(\"norm\")) == \"none\"):\n",
    "        norm = None\n",
    "    else:\n",
    "        norm = {\"ref\":norm, \"exclude\":\"x\"}\n",
    "\n",
    "    if((sort:=args.pop(\"sort\")) == \"none\"):\n",
    "        fsort = None\n",
    "    else:\n",
    "        fsort = lambda x:x[1].attributes[sort]\n",
    "\n",
    "    if((labs:=args.pop(\"labels\")) != \"none\"):\n",
    "        labelsx.layout.visibility = \"visible\"\n",
    "        labelsy.layout.visibility = \"visible\"\n",
    "    else:\n",
    "        labs = None\n",
    "        labelsx.layout.visibility = \"hidden\"\n",
    "        labelsy.layout.visibility = \"hidden\"\n",
    "        \n",
    "\n",
    "    \n",
    "    ax.cla()\n",
    "    expy.plot_stack(\n",
    "        ex, \n",
    "        ax = ax, \n",
    "        y_plot=yp,\n",
    "        ftot_plot=ftotp,\n",
    "        other_plot=op,\n",
    "        bg_pattern=bg_pattern, \n",
    "        to_background = None, \n",
    "        normalized=norm,\n",
    "        sort=fsort,\n",
    "        labels=labs,\n",
    "        labels_format=plabels_format,\n",
    "        xlabels=args.pop(\"labelsx\"),\n",
    "        ylabels_shift=args.pop(\"labelsy\"),\n",
    "        **args\n",
    "    )\n",
    "    ax.set(xlabel = xlabel, ylabel = ylabel)\n",
    "    fig.tight_layout()\n",
    "    \n",
    "\n"
   ]
  },
  {
   "cell_type": "code",
   "execution_count": 13,
   "id": "18410f83-f350-4fa5-ab35-7149725f4e34",
   "metadata": {},
   "outputs": [],
   "source": [
    "# plt.close(\"all\")"
   ]
  }
 ],
 "metadata": {
  "kernelspec": {
   "display_name": "Python 3 (ipykernel)",
   "language": "python",
   "name": "python3"
  },
  "language_info": {
   "codemirror_mode": {
    "name": "ipython",
    "version": 3
   },
   "file_extension": ".py",
   "mimetype": "text/x-python",
   "name": "python",
   "nbconvert_exporter": "python",
   "pygments_lexer": "ipython3",
   "version": "3.12.3"
  },
  "toc": {
   "base_numbering": 1
  }
 },
 "nbformat": 4,
 "nbformat_minor": 5
}
