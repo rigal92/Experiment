{
 "cells": [
  {
   "cell_type": "code",
   "execution_count": 2,
   "id": "58d9cd37-fa8a-43b7-ae30-2cd662598f4b",
   "metadata": {
    "editable": true,
    "slideshow": {
     "slide_type": "skip"
    },
    "tags": []
   },
   "outputs": [],
   "source": [
    "import pandas as pd\n",
    "import expy\n",
    "import ipywidgets as widgets\n",
    "from expy import Experiment\n",
    "from IPython.display import Markdown as md\n",
    "from ipywidgets import interact, interact_manual, interactive_output, GridspecLayout, Layout, HTML, VBox, HBox\n",
    "import matplotlib.pyplot as plt\n",
    "%matplotlib widget\n",
    "plt.style.use(\"mystyle-jupyter\")\n",
    "\n",
    "pd.set_option('display.max_columns', None)\n",
    "pd.set_option('display.max_rows', None)\n"
   ]
  },
  {
   "cell_type": "markdown",
   "id": "eaf536dc-7bab-4f53-954e-04dd518cbf62",
   "metadata": {
    "editable": true,
    "slideshow": {
     "slide_type": "skip"
    },
    "tags": []
   },
   "source": [
    "### Loading experiment "
   ]
  },
  {
   "cell_type": "code",
   "execution_count": 3,
   "id": "fcfcfa20-a3a9-4464-8a61-be8bdaa8d041",
   "metadata": {
    "editable": true,
    "slideshow": {
     "slide_type": "skip"
    },
    "tags": []
   },
   "outputs": [],
   "source": [
    "file = \"exp_sample.json\""
   ]
  },
  {
   "cell_type": "code",
   "execution_count": 4,
   "id": "16c1d729-065d-4d1b-ae14-15e0717b2ffb",
   "metadata": {
    "editable": true,
    "slideshow": {
     "slide_type": "skip"
    },
    "tags": []
   },
   "outputs": [],
   "source": [
    "ex = expy.read(file)\n",
    "title = ex.name if ex.name else \"Experiment\""
   ]
  },
  {
   "cell_type": "code",
   "execution_count": 5,
   "id": "bd2766b2-730f-4667-acf4-c3840df4769a",
   "metadata": {
    "editable": true,
    "slideshow": {
     "slide_type": "slide"
    },
    "tags": [
     "hide_code"
    ]
   },
   "outputs": [
    {
     "data": {
      "text/markdown": [
       "# Experiment"
      ],
      "text/plain": [
       "<IPython.core.display.Markdown object>"
      ]
     },
     "execution_count": 5,
     "metadata": {},
     "output_type": "execute_result"
    }
   ],
   "source": [
    "md(f\"# {title}\")"
   ]
  },
  {
   "cell_type": "code",
   "execution_count": 6,
   "id": "0672d0ff-415b-4c64-ad7a-a47ec98cffb2",
   "metadata": {
    "editable": true,
    "slideshow": {
     "slide_type": "subslide"
    },
    "tags": []
   },
   "outputs": [
    {
     "data": {
      "text/markdown": [
       "## Laboratory notes\n",
       "Insert here all the relevant laboratory notes."
      ],
      "text/plain": [
       "<IPython.core.display.Markdown object>"
      ]
     },
     "metadata": {},
     "output_type": "display_data"
    }
   ],
   "source": [
    "show = True\n",
    "if show:\n",
    "    display(md(filename=(\"LabNotes.md\")))"
   ]
  },
  {
   "cell_type": "markdown",
   "id": "53f0afc6-db8d-4671-9cc4-ad45b9e2c2bc",
   "metadata": {
    "editable": true,
    "slideshow": {
     "slide_type": "subslide"
    },
    "tags": []
   },
   "source": [
    "## General summary"
   ]
  },
  {
   "cell_type": "code",
   "execution_count": 7,
   "id": "d18a218f-af17-45b1-9393-d9aa8c5205c4",
   "metadata": {
    "editable": true,
    "slideshow": {
     "slide_type": "skip"
    },
    "tags": [
     "hide_code"
    ]
   },
   "outputs": [],
   "source": [
    "show = False\n",
    "if show: \n",
    "    print(ex)"
   ]
  },
  {
   "cell_type": "markdown",
   "id": "e8f2cff2-3040-41ac-b1c5-a3158ee441b4",
   "metadata": {
    "editable": true,
    "slideshow": {
     "slide_type": "subslide"
    },
    "tags": []
   },
   "source": [
    "General attributes belonging to the events"
   ]
  },
  {
   "cell_type": "code",
   "execution_count": 8,
   "id": "582e13cb-5afd-4cb5-8887-b21438831232",
   "metadata": {
    "editable": true,
    "slideshow": {
     "slide_type": "fragment"
    },
    "tags": [
     "hide_code"
    ]
   },
   "outputs": [
    {
     "name": "stdout",
     "output_type": "stream",
     "text": [
      "      T1 T2  Pid          P\n",
      "0  Spot3  G  P17  11.310532\n",
      "1  Spot3  G  P11   6.397365\n",
      "2  Spot3  G  P14   7.915588\n",
      "3  Spot3  G  P16  10.022278\n",
      "4  Spot3  G  P13   7.279942\n",
      "5  Spot3  G  P15   8.981847\n",
      "6  Spot3  G  P12   6.709786\n"
     ]
    }
   ],
   "source": [
    "attributes = ex.get_attributes()\n",
    "print(attributes)"
   ]
  },
  {
   "cell_type": "markdown",
   "id": "1f7793cb-7f59-4035-90bb-ed6a3f276f2b",
   "metadata": {
    "editable": true,
    "slideshow": {
     "slide_type": "subslide"
    },
    "tags": []
   },
   "source": [
    "Here are the fitted parameters of our experiment:"
   ]
  },
  {
   "cell_type": "code",
   "execution_count": 9,
   "id": "7e4474aa-04d9-46e1-abf3-a88ac7e53196",
   "metadata": {
    "editable": true,
    "slideshow": {
     "slide_type": "fragment"
    },
    "tags": [
     "hide_code"
    ]
   },
   "outputs": [
    {
     "data": {
      "text/html": [
       "<div>\n",
       "<style scoped>\n",
       "    .dataframe tbody tr th:only-of-type {\n",
       "        vertical-align: middle;\n",
       "    }\n",
       "\n",
       "    .dataframe tbody tr th {\n",
       "        vertical-align: top;\n",
       "    }\n",
       "\n",
       "    .dataframe thead tr th {\n",
       "        text-align: left;\n",
       "    }\n",
       "</style>\n",
       "<table border=\"1\" class=\"dataframe\">\n",
       "  <thead>\n",
       "    <tr>\n",
       "      <th></th>\n",
       "      <th>name</th>\n",
       "      <th>T1</th>\n",
       "      <th>T2</th>\n",
       "      <th>Pid</th>\n",
       "      <th>P</th>\n",
       "      <th colspan=\"12\" halign=\"left\">VoigtA</th>\n",
       "      <th colspan=\"10\" halign=\"left\">LorentzianA</th>\n",
       "    </tr>\n",
       "    <tr>\n",
       "      <th></th>\n",
       "      <th></th>\n",
       "      <th></th>\n",
       "      <th></th>\n",
       "      <th></th>\n",
       "      <th></th>\n",
       "      <th>Center</th>\n",
       "      <th>Height</th>\n",
       "      <th>Area</th>\n",
       "      <th>FWHM</th>\n",
       "      <th>a0</th>\n",
       "      <th>err_a0</th>\n",
       "      <th>a1</th>\n",
       "      <th>err_a1</th>\n",
       "      <th>a2</th>\n",
       "      <th>err_a2</th>\n",
       "      <th>a3</th>\n",
       "      <th>err_a3</th>\n",
       "      <th>Center</th>\n",
       "      <th>Height</th>\n",
       "      <th>Area</th>\n",
       "      <th>FWHM</th>\n",
       "      <th>a0</th>\n",
       "      <th>err_a0</th>\n",
       "      <th>a1</th>\n",
       "      <th>err_a1</th>\n",
       "      <th>a2</th>\n",
       "      <th>err_a2</th>\n",
       "    </tr>\n",
       "  </thead>\n",
       "  <tbody>\n",
       "    <tr>\n",
       "      <th>0</th>\n",
       "      <td>Spot3_G_P17</td>\n",
       "      <td>Spot3</td>\n",
       "      <td>G</td>\n",
       "      <td>P17</td>\n",
       "      <td>11.310532</td>\n",
       "      <td>1618.74</td>\n",
       "      <td>782.518</td>\n",
       "      <td>65071.4</td>\n",
       "      <td>67.21550</td>\n",
       "      <td>65071.4</td>\n",
       "      <td>450.053</td>\n",
       "      <td>1618.74</td>\n",
       "      <td>0.154970</td>\n",
       "      <td>31.557500</td>\n",
       "      <td>0.658139</td>\n",
       "      <td>0.396877</td>\n",
       "      <td>2.668430e-02</td>\n",
       "      <td>NaN</td>\n",
       "      <td>NaN</td>\n",
       "      <td>NaN</td>\n",
       "      <td>NaN</td>\n",
       "      <td>NaN</td>\n",
       "      <td>NaN</td>\n",
       "      <td>NaN</td>\n",
       "      <td>NaN</td>\n",
       "      <td>NaN</td>\n",
       "      <td>NaN</td>\n",
       "    </tr>\n",
       "    <tr>\n",
       "      <th>1</th>\n",
       "      <td>NaN</td>\n",
       "      <td>NaN</td>\n",
       "      <td>NaN</td>\n",
       "      <td>NaN</td>\n",
       "      <td>NaN</td>\n",
       "      <td>NaN</td>\n",
       "      <td>NaN</td>\n",
       "      <td>NaN</td>\n",
       "      <td>NaN</td>\n",
       "      <td>NaN</td>\n",
       "      <td>NaN</td>\n",
       "      <td>NaN</td>\n",
       "      <td>NaN</td>\n",
       "      <td>NaN</td>\n",
       "      <td>NaN</td>\n",
       "      <td>NaN</td>\n",
       "      <td>NaN</td>\n",
       "      <td>NaN</td>\n",
       "      <td>NaN</td>\n",
       "      <td>NaN</td>\n",
       "      <td>NaN</td>\n",
       "      <td>NaN</td>\n",
       "      <td>NaN</td>\n",
       "      <td>NaN</td>\n",
       "      <td>NaN</td>\n",
       "      <td>NaN</td>\n",
       "      <td>NaN</td>\n",
       "    </tr>\n",
       "    <tr>\n",
       "      <th>2</th>\n",
       "      <td>Spot3_G_P14</td>\n",
       "      <td>Spot3</td>\n",
       "      <td>G</td>\n",
       "      <td>P14</td>\n",
       "      <td>7.915588</td>\n",
       "      <td>1598.38</td>\n",
       "      <td>791.027</td>\n",
       "      <td>67760.6</td>\n",
       "      <td>68.31620</td>\n",
       "      <td>67760.6</td>\n",
       "      <td>415.053</td>\n",
       "      <td>1598.38</td>\n",
       "      <td>0.145700</td>\n",
       "      <td>31.167100</td>\n",
       "      <td>0.618165</td>\n",
       "      <td>0.445219</td>\n",
       "      <td>2.559690e-02</td>\n",
       "      <td>NaN</td>\n",
       "      <td>NaN</td>\n",
       "      <td>NaN</td>\n",
       "      <td>NaN</td>\n",
       "      <td>NaN</td>\n",
       "      <td>NaN</td>\n",
       "      <td>NaN</td>\n",
       "      <td>NaN</td>\n",
       "      <td>NaN</td>\n",
       "      <td>NaN</td>\n",
       "    </tr>\n",
       "    <tr>\n",
       "      <th>3</th>\n",
       "      <td>Spot3_G_P16</td>\n",
       "      <td>Spot3</td>\n",
       "      <td>G</td>\n",
       "      <td>P16</td>\n",
       "      <td>10.022278</td>\n",
       "      <td>1627.09</td>\n",
       "      <td>572.353</td>\n",
       "      <td>46004.5</td>\n",
       "      <td>55.57880</td>\n",
       "      <td>46004.5</td>\n",
       "      <td>349.747</td>\n",
       "      <td>1627.09</td>\n",
       "      <td>0.168242</td>\n",
       "      <td>15.561900</td>\n",
       "      <td>0.989966</td>\n",
       "      <td>1.375720</td>\n",
       "      <td>1.207700e-01</td>\n",
       "      <td>NaN</td>\n",
       "      <td>NaN</td>\n",
       "      <td>NaN</td>\n",
       "      <td>NaN</td>\n",
       "      <td>NaN</td>\n",
       "      <td>NaN</td>\n",
       "      <td>NaN</td>\n",
       "      <td>NaN</td>\n",
       "      <td>NaN</td>\n",
       "      <td>NaN</td>\n",
       "    </tr>\n",
       "    <tr>\n",
       "      <th>4</th>\n",
       "      <td>Spot3_G_P13</td>\n",
       "      <td>Spot3</td>\n",
       "      <td>G</td>\n",
       "      <td>P13</td>\n",
       "      <td>7.279942</td>\n",
       "      <td>NaN</td>\n",
       "      <td>NaN</td>\n",
       "      <td>NaN</td>\n",
       "      <td>NaN</td>\n",
       "      <td>NaN</td>\n",
       "      <td>NaN</td>\n",
       "      <td>NaN</td>\n",
       "      <td>NaN</td>\n",
       "      <td>NaN</td>\n",
       "      <td>NaN</td>\n",
       "      <td>NaN</td>\n",
       "      <td>NaN</td>\n",
       "      <td>1600.32</td>\n",
       "      <td>954.721</td>\n",
       "      <td>74206.2</td>\n",
       "      <td>49.4816</td>\n",
       "      <td>74206.2</td>\n",
       "      <td>385.810</td>\n",
       "      <td>1600.32</td>\n",
       "      <td>0.140186</td>\n",
       "      <td>24.7408</td>\n",
       "      <td>0.188786</td>\n",
       "    </tr>\n",
       "    <tr>\n",
       "      <th>5</th>\n",
       "      <td>Spot3_G_P15</td>\n",
       "      <td>Spot3</td>\n",
       "      <td>G</td>\n",
       "      <td>P15</td>\n",
       "      <td>8.981847</td>\n",
       "      <td>1616.88</td>\n",
       "      <td>-744.985</td>\n",
       "      <td>-64662.6</td>\n",
       "      <td>-3.82372</td>\n",
       "      <td>-64662.6</td>\n",
       "      <td>399.307</td>\n",
       "      <td>1616.88</td>\n",
       "      <td>0.183974</td>\n",
       "      <td>-0.025197</td>\n",
       "      <td>1501.460000</td>\n",
       "      <td>-1096.510000</td>\n",
       "      <td>6.534090e+07</td>\n",
       "      <td>NaN</td>\n",
       "      <td>NaN</td>\n",
       "      <td>NaN</td>\n",
       "      <td>NaN</td>\n",
       "      <td>NaN</td>\n",
       "      <td>NaN</td>\n",
       "      <td>NaN</td>\n",
       "      <td>NaN</td>\n",
       "      <td>NaN</td>\n",
       "      <td>NaN</td>\n",
       "    </tr>\n",
       "    <tr>\n",
       "      <th>6</th>\n",
       "      <td>Spot3_G_P12</td>\n",
       "      <td>Spot3</td>\n",
       "      <td>G</td>\n",
       "      <td>P12</td>\n",
       "      <td>6.709786</td>\n",
       "      <td>NaN</td>\n",
       "      <td>NaN</td>\n",
       "      <td>NaN</td>\n",
       "      <td>NaN</td>\n",
       "      <td>NaN</td>\n",
       "      <td>NaN</td>\n",
       "      <td>NaN</td>\n",
       "      <td>NaN</td>\n",
       "      <td>NaN</td>\n",
       "      <td>NaN</td>\n",
       "      <td>NaN</td>\n",
       "      <td>NaN</td>\n",
       "      <td>1600.30</td>\n",
       "      <td>1148.200</td>\n",
       "      <td>68799.2</td>\n",
       "      <td>38.1457</td>\n",
       "      <td>68799.2</td>\n",
       "      <td>330.489</td>\n",
       "      <td>1600.30</td>\n",
       "      <td>0.101524</td>\n",
       "      <td>19.0729</td>\n",
       "      <td>0.134752</td>\n",
       "    </tr>\n",
       "  </tbody>\n",
       "</table>\n",
       "</div>"
      ],
      "text/plain": [
       "          name     T1   T2  Pid          P   VoigtA                    \\\n",
       "                                             Center   Height     Area   \n",
       "0  Spot3_G_P17  Spot3    G  P17  11.310532  1618.74  782.518  65071.4   \n",
       "1          NaN    NaN  NaN  NaN        NaN      NaN      NaN      NaN   \n",
       "2  Spot3_G_P14  Spot3    G  P14   7.915588  1598.38  791.027  67760.6   \n",
       "3  Spot3_G_P16  Spot3    G  P16  10.022278  1627.09  572.353  46004.5   \n",
       "4  Spot3_G_P13  Spot3    G  P13   7.279942      NaN      NaN      NaN   \n",
       "5  Spot3_G_P15  Spot3    G  P15   8.981847  1616.88 -744.985 -64662.6   \n",
       "6  Spot3_G_P12  Spot3    G  P12   6.709786      NaN      NaN      NaN   \n",
       "\n",
       "                                                                          \\\n",
       "       FWHM       a0   err_a0       a1    err_a1         a2       err_a2   \n",
       "0  67.21550  65071.4  450.053  1618.74  0.154970  31.557500     0.658139   \n",
       "1       NaN      NaN      NaN      NaN       NaN        NaN          NaN   \n",
       "2  68.31620  67760.6  415.053  1598.38  0.145700  31.167100     0.618165   \n",
       "3  55.57880  46004.5  349.747  1627.09  0.168242  15.561900     0.989966   \n",
       "4       NaN      NaN      NaN      NaN       NaN        NaN          NaN   \n",
       "5  -3.82372 -64662.6  399.307  1616.88  0.183974  -0.025197  1501.460000   \n",
       "6       NaN      NaN      NaN      NaN       NaN        NaN          NaN   \n",
       "\n",
       "                             LorentzianA                                       \\\n",
       "            a3        err_a3      Center    Height     Area     FWHM       a0   \n",
       "0     0.396877  2.668430e-02         NaN       NaN      NaN      NaN      NaN   \n",
       "1          NaN           NaN         NaN       NaN      NaN      NaN      NaN   \n",
       "2     0.445219  2.559690e-02         NaN       NaN      NaN      NaN      NaN   \n",
       "3     1.375720  1.207700e-01         NaN       NaN      NaN      NaN      NaN   \n",
       "4          NaN           NaN     1600.32   954.721  74206.2  49.4816  74206.2   \n",
       "5 -1096.510000  6.534090e+07         NaN       NaN      NaN      NaN      NaN   \n",
       "6          NaN           NaN     1600.30  1148.200  68799.2  38.1457  68799.2   \n",
       "\n",
       "                                                  \n",
       "    err_a0       a1    err_a1       a2    err_a2  \n",
       "0      NaN      NaN       NaN      NaN       NaN  \n",
       "1      NaN      NaN       NaN      NaN       NaN  \n",
       "2      NaN      NaN       NaN      NaN       NaN  \n",
       "3      NaN      NaN       NaN      NaN       NaN  \n",
       "4  385.810  1600.32  0.140186  24.7408  0.188786  \n",
       "5      NaN      NaN       NaN      NaN       NaN  \n",
       "6  330.489  1600.30  0.101524  19.0729  0.134752  "
      ]
     },
     "metadata": {},
     "output_type": "display_data"
    }
   ],
   "source": [
    "show = True\n",
    "df = ex.functions_flat\n",
    "if show: \n",
    "    display(df)"
   ]
  },
  {
   "cell_type": "markdown",
   "id": "55e2c75c-38c6-43aa-b4b7-ba70c02b14ed",
   "metadata": {
    "editable": true,
    "slideshow": {
     "slide_type": "subslide"
    },
    "tags": []
   },
   "source": [
    "### Functions "
   ]
  },
  {
   "cell_type": "markdown",
   "id": "832dea1a-d204-46ad-948a-df44732e5bf5",
   "metadata": {
    "editable": true,
    "slideshow": {
     "slide_type": "fragment"
    },
    "tags": []
   },
   "source": [
    "Here is a list of all the functions used in the fitting process:"
   ]
  },
  {
   "cell_type": "code",
   "execution_count": 10,
   "id": "3b5baf72-4f20-41a4-b81a-8c1e93a2630d",
   "metadata": {
    "editable": true,
    "slideshow": {
     "slide_type": "fragment"
    },
    "tags": [
     "hide_code"
    ]
   },
   "outputs": [
    {
     "name": "stdout",
     "output_type": "stream",
     "text": [
      "LorentzianA, VoigtA\n"
     ]
    }
   ],
   "source": [
    "functions = sorted(set(ex.functions.fname)) \n",
    "print(*functions, sep = \", \")"
   ]
  },
  {
   "cell_type": "markdown",
   "id": "18a55a24-62e5-4d5f-bab8-f5288660d43e",
   "metadata": {
    "editable": true,
    "slideshow": {
     "slide_type": "skip"
    },
    "tags": []
   },
   "source": [
    "\n",
    "## Widgets"
   ]
  },
  {
   "cell_type": "code",
   "execution_count": 11,
   "id": "c5b6309f-0784-41cb-95b0-ae3e03b30981",
   "metadata": {
    "editable": true,
    "slideshow": {
     "slide_type": "skip"
    },
    "tags": []
   },
   "outputs": [],
   "source": [
    "# functions\n",
    "to_plot = widgets.SelectMultiple(options=[\"y\", \"ftot\"] + functions, layout=Layout(width=\"auto\"))\n",
    "func_validator = widgets.widgets.Checkbox(value=False, description='Select', layout=widgets.Layout(width = \"auto\", justify_content=\"center\"), indent=False,)\n",
    "# bg\n",
    "bg = widgets.SelectMultiple(options=functions, layout=Layout(width=\"auto\"))\n",
    "bg_validator = widgets.widgets.Checkbox(value=True, description='Subtract', indent=False, layout=widgets.Layout(width = \"auto\", justify_content=\"center\"))\n",
    "#labels\n",
    "labels = widgets.Dropdown(value=\"none\", options=[\"none\"]+list(attributes.columns), layout=Layout(width=\"auto\"))\n",
    "labelsx = widgets.FloatSlider(value=1.05, step=.05, min=-1.2, max=1.2, description='x', indent=False, layout=Layout(width=\"auto\"))\n",
    "labelsy = widgets.FloatSlider(value=0, step=.1, min=0, max=5, description='y', indent=False, layout=Layout(width=\"auto\"))\n",
    "# lims\n",
    "xlims = widgets.IntRangeSlider(value=[0, 3000], min=0, max=3000, step=1, description=\"xlim\", layout=Layout(width=\"auto\"))\n",
    "ylims = widgets.Text(value=\"df.y.max()*2\", description=\"ylim\", layout=Layout(width=\"auto\"))\n",
    "factor = widgets.FloatSlider(value=1, step=1, min=0, max=10, description=\"Shift\", layout=Layout(width=\"auto\"))\n",
    "#normalize \n",
    "norm = widgets.Dropdown(value=\"y\", options=[\"none\", \"y\", \"ftot\"]+functions, indent=False, layout=Layout(width=\"auto\"))\n",
    "# sorting\n",
    "sort = widgets.Dropdown(value=\"none\", options=[\"none\"]+list(attributes.columns))\n",
    "reverse = widgets.widgets.Checkbox(value=False, description='Reverse', indent=False,)\n",
    "# labels\n",
    "l1 = widgets.Label(\"Functions to plot\", layout=Layout(justify_content=\"center\"))\n",
    "l2 = widgets.Label(\"Background\", layout=Layout(justify_content=\"center\"))\n",
    "l3 = widgets.Label(\"Labels\", layout=Layout(justify_content=\"center\"))\n",
    "l4 = widgets.Label(\"Positioning\", layout=Layout(justify_content=\"center\"))\n",
    "l5 = widgets.Label(\"Sorting\", layout=Layout(justify_content=\"center\"))\n",
    "l6 = widgets.Label(\"Normalize\", layout=Layout(justify_content=\"center\"))\n",
    "hr = HTML('<hr style=\"border:1px color=#3333ff;\">')"
   ]
  },
  {
   "cell_type": "markdown",
   "id": "3b135e2c-b553-453a-8152-51672bd17101",
   "metadata": {},
   "source": [
    "### Containers\n"
   ]
  },
  {
   "cell_type": "code",
   "execution_count": 12,
   "id": "80236c57-36a1-473c-aa96-797804819dc2",
   "metadata": {},
   "outputs": [],
   "source": [
    "v0 = VBox([l1, to_plot, func_validator], layout=Layout(width=\"20%\"))\n",
    "v1 = VBox([l2, bg, bg_validator], layout=Layout(width=\"20%\"))\n",
    "v2 = VBox([l3, labels, labelsx,labelsy], layout=Layout(width=\"50%\"))\n",
    "v3 = VBox([l4, xlims, ylims, factor], layout=Layout(width=\"50%\"))\n",
    "v4 = VBox([l5, HBox([sort, reverse])], layout=Layout(width=\"50%\"))\n",
    "v5 = VBox([l6, norm], layout=Layout(width=\"50%\"))\n",
    "\n",
    "h0 = HBox([v2, v3])\n",
    "h1 = HBox([v4, v5])\n",
    "\n",
    "widgets_stack = HBox([v0,v1,VBox([h0, hr, h1], layout=Layout(width=\"60%\"))])"
   ]
  },
  {
   "cell_type": "markdown",
   "id": "2ff75b88-5531-42fd-825a-689be82bf092",
   "metadata": {
    "editable": true,
    "slideshow": {
     "slide_type": "skip"
    },
    "tags": []
   },
   "source": [
    "## Plotting"
   ]
  },
  {
   "cell_type": "markdown",
   "id": "d002bc34-6edd-4c88-9068-262501342f4e",
   "metadata": {},
   "source": [
    "### Functions"
   ]
  },
  {
   "cell_type": "code",
   "execution_count": 13,
   "id": "2d0ac015-36e7-4cce-a39c-acfab4a96cfb",
   "metadata": {
    "editable": true,
    "slideshow": {
     "slide_type": "skip"
    },
    "tags": []
   },
   "outputs": [],
   "source": [
    "def update_params(**args):\n",
    "    funcs = list(args[\"to_plot\"])\n",
    "    if args[\"func_validator\"]:\n",
    "        to_plot.layout.visibility = \"visible\"\n",
    "        if(\"y\" in funcs): \n",
    "            yp = y_plot\n",
    "            funcs.remove(\"y\")\n",
    "        else:\n",
    "            yp = None\n",
    "        if(\"ftot\" in funcs): \n",
    "            ftotp = ftot_plot\n",
    "            funcs.remove(\"ftot\")\n",
    "        else:\n",
    "            ftotp = None\n",
    "        op = {f:other_plot[\"_rem\"] for f in funcs}\n",
    "    else:\n",
    "        to_plot.layout.visibility = \"hidden\"\n",
    "        yp = y_plot\n",
    "        ftotp = ftot_plot\n",
    "        op = other_plot\n",
    "\n",
    "    bg_pattern = \"|\".join(args[\"bg_fun\"])\n",
    "    if args[\"bg_validator\"]:\n",
    "        bg.layout.visibility = \"visible\"\n",
    "    else:\n",
    "        bg.layout.visibility = \"hidden\"\n",
    "        bg_pattern = None\n",
    "    \n",
    "    if((norm:=args[\"norm\"]) == \"none\"):\n",
    "        norm = None\n",
    "    else:\n",
    "        norm = {\"ref\":norm, \"exclude\":\"x\"}\n",
    "\n",
    "    if((sort:=args[\"sort\"]) == \"none\"):\n",
    "        fsort = None\n",
    "    else:\n",
    "        fsort = lambda x:x[1].attributes[sort]\n",
    "\n",
    "    if((labs:=args[\"labels\"]) != \"none\"):\n",
    "        labelsx.layout.visibility = \"visible\"\n",
    "        labelsy.layout.visibility = \"visible\"\n",
    "    else:\n",
    "        labs = None\n",
    "        labelsx.layout.visibility = \"hidden\"\n",
    "        labelsy.layout.visibility = \"hidden\"\n",
    "    return {\n",
    "        \"y_plot\":yp,\n",
    "        \"ftot_plot\":ftotp,\n",
    "        \"other_plot\":op,\n",
    "        \"bg_pattern\":bg_pattern, \n",
    "        \"to_background\" : None, \n",
    "        \"normalized\":norm,\n",
    "        \"sort\":fsort,\n",
    "        \"labels\":labs,\n",
    "        \"labels_format\":plabels_format,\n",
    "        \"xlabels\":args.pop(\"labelsx\"),\n",
    "        \"ylabels_shift\":args.pop(\"labelsy\"),\n",
    "        \"xlim\":args.pop(\"xlim\"), \n",
    "        \"ylim\":args.pop(\"ylim\"),\n",
    "        \"factor\":args[\"factor\"]\n",
    "    }"
   ]
  },
  {
   "cell_type": "code",
   "execution_count": 14,
   "id": "f1c00f0c-c9c8-4840-b2f1-8e1cc911f32e",
   "metadata": {},
   "outputs": [],
   "source": [
    "def plot_stack(**args):\n",
    "    pars = update_params(**args)\n",
    "    fig.clf()\n",
    "    expy.plot_stack(ex, **pars)\n",
    "    fig.gca().set(xlabel = xlabel, ylabel = ylabel, yticks=[])\n",
    "    fig.tight_layout()\n",
    "    "
   ]
  },
  {
   "cell_type": "code",
   "execution_count": 15,
   "id": "dff3bef5-dc4e-475c-aa0c-859d561c4a09",
   "metadata": {},
   "outputs": [],
   "source": [
    "def plot_slide(**args):\n",
    "    pass"
   ]
  },
  {
   "cell_type": "markdown",
   "id": "e4bd36dc-abbc-4b90-bf97-8bd58ccf13df",
   "metadata": {
    "editable": true,
    "slideshow": {
     "slide_type": "slide"
    },
    "tags": []
   },
   "source": [
    "### Plot parameters"
   ]
  },
  {
   "cell_type": "code",
   "execution_count": 16,
   "id": "8d8dd6a3-cefe-43f3-bb9c-f742fcd7f99f",
   "metadata": {
    "editable": true,
    "slideshow": {
     "slide_type": "skip"
    },
    "tags": []
   },
   "outputs": [],
   "source": [
    "# set up labels\n",
    "xlabel = \"x\"\n",
    "ylabel = \"I (a.u.)\"\n",
    "\n",
    "# chose line colors\n",
    "y_plot = {\"pos\":[\".k\"], \"ms\":2}\n",
    "ftot_plot = {\"pos\":[\"-r\"]}\n",
    "other_plot = {\"_rem\":{\"pos\":[\"-\"],\"c\":[0,.3957,.6043], \"alpha\":.3}}\n",
    "\n",
    "# plot labels\n",
    "plabels_format = \".2f\"\n"
   ]
  },
  {
   "cell_type": "markdown",
   "id": "c5e366dc-a54f-44ba-bed2-01ee5dc92240",
   "metadata": {
    "editable": true,
    "slideshow": {
     "slide_type": "subslide"
    },
    "tags": []
   },
   "source": [
    "### Stack plot"
   ]
  },
  {
   "cell_type": "code",
   "execution_count": 17,
   "id": "4d1cbacb-7eaa-44ee-87c1-0dac7974376c",
   "metadata": {
    "editable": true,
    "slideshow": {
     "slide_type": "fragment"
    },
    "tags": []
   },
   "outputs": [
    {
     "data": {
      "application/vnd.jupyter.widget-view+json": {
       "model_id": "7806012f27154a8c99ce03d25514d49b",
       "version_major": 2,
       "version_minor": 0
      },
      "text/plain": [
       "HBox(children=(VBox(children=(Label(value='Functions to plot', layout=Layout(justify_content='center')), Selec…"
      ]
     },
     "metadata": {},
     "output_type": "display_data"
    },
    {
     "data": {
      "application/vnd.jupyter.widget-view+json": {
       "model_id": "020a72e4fe944f0f8393999a27af6bd9",
       "version_major": 2,
       "version_minor": 0
      },
      "image/png": "[encoded data removed]",
      "text/html": [
       "\n",
       "            <div style=\"display: inline-block;\">\n",
       "                <div class=\"jupyter-widgets widget-label\" style=\"text-align: center;\">\n",
       "                    Figure\n",
       "                </div>\n",
       "                <img src='data:image/png;base64,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' width=700.0/>\n",
       "            </div>\n",
       "        "
      ],
      "text/plain": [
       "Canvas(toolbar=Toolbar(toolitems=[('Home', 'Reset original view', 'home', 'home'), ('Back', 'Back to previous …"
      ]
     },
     "metadata": {},
     "output_type": "display_data"
    }
   ],
   "source": [
    "# Initialize plot\n",
    "fig, ax = plt.subplots()\n",
    "expy.plot_stack(ex, ax = ax)\n",
    "ax.set(xlabel = xlabel, ylabel = ylabel)\n",
    "ax.get_yaxis().set_ticks([])\n",
    "fig.tight_layout()\n",
    "\n",
    "interactive_output(plot_stack, {\n",
    "    \"to_plot\":to_plot,\n",
    "    \"func_validator\":func_validator,\n",
    "    \"norm\":norm,\n",
    "    \"sort\":sort,\n",
    "    \"reverse\":reverse,\n",
    "    \"labels\":labels,\n",
    "    \"labelsx\":labelsx,\n",
    "    \"labelsy\":labelsy,\n",
    "    \"bg_fun\":bg,\n",
    "    \"bg_validator\":bg_validator,\n",
    "    \"xlim\":xlims, \n",
    "    \"ylim\" : ylims,\n",
    "    \"factor\":factor,\n",
    "    }\n",
    ")\n",
    "\n",
    "\n",
    "display(widgets_stack)\n"
   ]
  },
  {
   "cell_type": "markdown",
   "id": "ecbaed8d-1d5e-4504-b70a-a83f5a38c50c",
   "metadata": {},
   "source": [
    "### Slider plot"
   ]
  },
  {
   "cell_type": "markdown",
   "id": "b8307be4-2c7f-4152-9e71-9a0c95f03cdd",
   "metadata": {
    "editable": true,
    "slideshow": {
     "slide_type": "fragment"
    },
    "tags": []
   },
   "source": [
    "Not implemented\n"
   ]
  },
  {
   "cell_type": "code",
   "execution_count": 18,
   "id": "18410f83-f350-4fa5-ab35-7149725f4e34",
   "metadata": {},
   "outputs": [],
   "source": [
    "# plt.close(\"all\")"
   ]
  }
 ],
 "metadata": {
  "kernelspec": {
   "display_name": "Python 3 (ipykernel)",
   "language": "python",
   "name": "python3"
  },
  "language_info": {
   "codemirror_mode": {
    "name": "ipython",
    "version": 3
   },
   "file_extension": ".py",
   "mimetype": "text/x-python",
   "name": "python",
   "nbconvert_exporter": "python",
   "pygments_lexer": "ipython3",
   "version": "3.12.3"
  },
  "toc": {
   "base_numbering": 1
  }
 },
 "nbformat": 4,
 "nbformat_minor": 5
}
